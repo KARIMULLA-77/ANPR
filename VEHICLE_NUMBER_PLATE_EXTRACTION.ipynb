{
  "nbformat": 4,
  "nbformat_minor": 0,
  "metadata": {
    "colab": {
      "provenance": [],
      "authorship_tag": "ABX9TyOX1JPCWtXURixlsl88y0Em",
      "include_colab_link": true
    },
    "kernelspec": {
      "name": "python3",
      "display_name": "Python 3"
    },
    "language_info": {
      "name": "python"
    }
  },
  "cells": [
    {
      "cell_type": "markdown",
      "metadata": {
        "id": "view-in-github",
        "colab_type": "text"
      },
      "source": [
        "<a href=\"https://colab.research.google.com/github/KARIMULLA-77/ANPR/blob/main/VEHICLE_NUMBER_PLATE_EXTRACTION.ipynb\" target=\"_parent\"><img src=\"https://colab.research.google.com/assets/colab-badge.svg\" alt=\"Open In Colab\"/></a>"
      ]
    },
    {
      "cell_type": "code",
      "execution_count": null,
      "metadata": {
        "id": "s1osbu2Lb_tE"
      },
      "outputs": [],
      "source": [
        "pip install easyocr"
      ]
    },
    {
      "cell_type": "code",
      "source": [
        "pip install roboflow"
      ],
      "metadata": {
        "id": "q8IkuzH9cYe4"
      },
      "execution_count": null,
      "outputs": []
    },
    {
      "cell_type": "code",
      "source": [
        "import cv2\n",
        "import easyocr\n",
        "import re\n",
        "import pandas as pd\n",
        "from roboflow import Roboflow\n",
        "import os\n",
        "\n",
        "API_KEY = \"dnQosvZ7WHVcIZwHT4lO\"\n",
        "MODEL_ID = \"auto-htksu/1\"\n",
        "\n",
        "rf = Roboflow(api_key=API_KEY)\n",
        "project = rf.workspace().project(MODEL_ID.split('/')[0])\n",
        "model = project.version(MODEL_ID.split('/')[1]).model\n",
        "\n",
        "reader = easyocr.Reader(['en'])\n",
        "\n",
        "\n",
        "plate_pattern = r'^[A-Z]{2}[0-9]{1,2}[A-Z]{1,2}[0-9]{3,4}$'\n",
        "\n",
        "results_dir = \"results\"\n",
        "os.makedirs(results_dir, exist_ok=True)\n",
        "\n",
        "output_frames_dir = os.path.join(results_dir, \"frames_with_bounding_boxes\")\n",
        "os.makedirs(output_frames_dir, exist_ok=True)\n",
        "\n",
        "output_cropped_plates_dir = os.path.join(results_dir, \"cropped_number_plates\")\n",
        "os.makedirs(output_cropped_plates_dir, exist_ok=True)\n",
        "\n",
        "seen_plates = set()\n",
        "\n",
        "video_path = \"vid.mp4\"\n",
        "cap = cv2.VideoCapture(video_path)\n",
        "\n",
        "results = []\n",
        "frame_id = 0\n",
        "\n",
        "fps = cap.get(cv2.CAP_PROP_FPS)\n",
        "if fps > 0:\n",
        "    frame_interval = int(fps * 1)\n",
        "else:\n",
        "    frame_interval = 1\n",
        "\n",
        "\n",
        "while True:\n",
        "    ret, frame = cap.read()\n",
        "    if not ret:\n",
        "        break\n",
        "\n",
        "    frame_id += 1\n",
        "\n",
        "    if frame_id % 5 != 0:\n",
        "        continue\n",
        "\n",
        "\n",
        "    temp_file = \"temp_frame.jpg\"\n",
        "    cv2.imwrite(temp_file, frame)\n",
        "\n",
        "\n",
        "    predictions = model.predict(temp_file, confidence=40, overlap=30).json()\n",
        "\n",
        "    frame_with_boxes = frame.copy()\n",
        "    for pred in predictions[\"predictions\"]:\n",
        "        vehicle_type = pred[\"class\"]\n",
        "        x, y, w, h = pred[\"x\"], pred[\"y\"], pred[\"width\"], pred[\"height\"]\n",
        "        x1, y1, x2, y2 = int(x - w/2), int(y - h/2), int(x + w/2), int(y + w/2)\n",
        "\n",
        "        crop = frame[y1:y2, x1:x2]\n",
        "\n",
        "        ocr_result = reader.readtext(crop)\n",
        "\n",
        "        for _, text, _ in ocr_result:\n",
        "            candidate = text.upper().replace(\" \", \"\")\n",
        "            if re.fullmatch(plate_pattern, candidate) and candidate not in seen_plates:\n",
        "                print(f\"Frame {frame_id} | Vehicle: {vehicle_type} | Plate: {candidate}\")\n",
        "                results.append([frame_id, vehicle_type, candidate])\n",
        "                seen_plates.add(candidate)\n",
        "                plate_img_name = os.path.join(output_cropped_plates_dir, f\"frame_{frame_id}_{candidate}.jpg\")\n",
        "                cv2.imwrite(plate_img_name, crop)\n",
        "                cv2.rectangle(frame_with_boxes, (x1, y1), (x2, y2), (0, 255, 0), 2)\n",
        "                cv2.putText(frame_with_boxes, candidate, (x1, y1 - 10), cv2.FONT_HERSHEY_SIMPLEX, 0.9, (0, 255, 0), 2)\n",
        "    frame_with_boxes_name = os.path.join(output_frames_dir, f\"frame_{frame_id}.jpg\")\n",
        "    cv2.imwrite(frame_with_boxes_name, frame_with_boxes)\n",
        "\n",
        "\n",
        "cap.release()\n",
        "excel_output_path = os.path.join(results_dir, \"vehicle_type_with_number_plate.xlsx\")\n",
        "df = pd.DataFrame(results, columns=[\"Frame\", \"Vehicle Type\", \"Number Plate\"])\n",
        "df.to_excel(excel_output_path, index=False)\n",
        "\n",
        "print(f\"✅ Done! Results stored in {excel_output_path}\")"
      ],
      "metadata": {
        "id": "Jta6bp8tcbKv"
      },
      "execution_count": null,
      "outputs": []
    }
  ]
}